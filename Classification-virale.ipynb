{
  "nbformat": 4,
  "nbformat_minor": 0,
  "metadata": {
    "kernelspec": {
      "name": "python3",
      "display_name": "Python 3"
    },
    "colab": {
      "name": "slm_tutorial_fr.ipynb",
      "provenance": [],
      "include_colab_link": true
    },
    "language_info": {
      "name": "python"
    },
    "accelerator": "GPU"
  },
  "cells": [
    {
      "cell_type": "markdown",
      "metadata": {
        "id": "view-in-github",
        "colab_type": "text"
      },
      "source": [
        "<a href=\"https://colab.research.google.com/github/samisihem/Projet-de-session/blob/main/Classification-virale.ipynb\" target=\"_parent\"><img src=\"https://colab.research.google.com/assets/colab-badge.svg\" alt=\"Open In Colab\"/></a>"
      ]
    },
    {
      "cell_type": "code",
      "metadata": {
        "id": "IxrhwYVlXdaD"
      },
      "source": [
        "pip install biopython"
      ],
      "execution_count": null,
      "outputs": []
    },
    {
      "cell_type": "code",
      "metadata": {
        "id": "Fa4ajSnFajmg"
      },
      "source": [
        "# Import Biopython functions\n",
        "from Bio import SeqIO"
      ],
      "execution_count": 46,
      "outputs": []
    },
    {
      "cell_type": "code",
      "metadata": {
        "id": "9P7Y-AQ2aGd3"
      },
      "source": [
        "# Initialize an empty dictionary\n",
        "targets = {}\n",
        "# Iterate through the entire fasta file\n",
        "for sequence_record in SeqIO.parse(\"HIV.fa\", \"fasta\"):\n",
        "    # Get the index of the separator\n",
        "    index = sequence_record.id.index(\".\")\n",
        "    # Get the target\n",
        "    target = sequence_record.id[index + 1:]\n",
        "    # If the target exists, increment its value by 1. \n",
        "    if target in targets.keys(): targets[target] = targets[target] + 1\n",
        "    # Else we add the target to the dictionary with an initial value of 1 \n",
        "    else: targets[target] = 1"
      ],
      "execution_count": 184,
      "outputs": []
    },
    {
      "cell_type": "code",
      "metadata": {
        "colab": {
          "base_uri": "https://localhost:8080/"
        },
        "id": "3kwbPVQLcmEv",
        "outputId": "cde8571c-9daf-42f7-864a-214d9c16d90b"
      },
      "source": [
        "# Get data information before cleaning\n",
        "n_targets = len(targets.keys())\n",
        "n_sequences = sum(targets.values())\n",
        "min_instances = min(targets.values())\n",
        "max_instances = max(targets.values())\n",
        "\n",
        "# Display data information before cleaning\n",
        "print(\"Data information before cleaning:\")\n",
        "print(\"Number of sequences = \", n_sequences)\n",
        "print(\"Number of targets = \", n_targets)\n",
        "print(\"Minimum number of instances = \", min_instances)\n",
        "print(\"Maximum number of instances = \", max_instances)"
      ],
      "execution_count": 185,
      "outputs": [
        {
          "output_type": "stream",
          "text": [
            "Data information before cleaning:\n",
            "Number of sequences =  13540\n",
            "Number of targets =  244\n",
            "Minimum number of instances =  1\n",
            "Maximum number of instances =  6792\n"
          ],
          "name": "stdout"
        }
      ]
    },
    {
      "cell_type": "code",
      "metadata": {
        "id": "Wjh8nG-ccvR-"
      },
      "source": [
        "# Define tables for the cleaning step\n",
        "removed_targets = []\n",
        "specific_retained_targets = [\"A1\", \"A2\", \"A3\", \"A4\" \"A6\", \"F1\", \"F2\",\"0107\", \"AD\",\"ACD\", \"02G\", \"CD\", \"01C\",\"02B\", \"BF1\",\"01B\", \"01BC\", \"BC\", \"BG\"]\n",
        "specific_excluded_targets = [\"-\", \"U\", \"A1B\", \"A1C\", \"A1CD\", \"A1D\", \"02A\", \"02A1\"]\n",
        "\n",
        "\n",
        "# Iterate through the targets dictionary\n",
        "for key, value in targets.items():\n",
        "    # If the number of instances is greater than ten and the target is not in specific_excluded_targets or if the target is in specific_retained_targets, then pass\n",
        "    if (value >= 5 and key not in specific_excluded_targets) or (key in specific_retained_targets): pass\n",
        "    # Else add in removed_targets\n",
        "    else: removed_targets.append(key)\n",
        "\n",
        "# Remove unwanted targets for the dictionary\n",
        "for target in removed_targets: del targets[target]"
      ],
      "execution_count": 187,
      "outputs": []
    },
    {
      "cell_type": "code",
      "metadata": {
        "id": "Bd5oBjQYc-4j"
      },
      "source": [
        "# Initialize our data table [Id, Sequence, Target]\n",
        "data = []\n",
        "# Iterate through the entire fasta file\n",
        "for sequence_record in SeqIO.parse(\"HIV.fa\", \"fasta\"):\n",
        "    # Get the index of the separator\n",
        "    index = sequence_record.id.index(\".\")\n",
        "    # Get the target\n",
        "    target = sequence_record.id[index + 1:]\n",
        "    # If the current target is in the dictionary\n",
        "    if target in targets.keys():\n",
        "        # Initialize a temporary target\n",
        "        temporary_target = None\n",
        "        # If subtype A under then merge on the same target\n",
        "        if target[0] == \"A\": temporary_target = \"A\"\n",
        "        # If subtype F under then merge on the same target\n",
        "        elif target[0] == \"F\": temporary_target = \"F\"\n",
        "        # Else keep the original target\n",
        "        else: temporary_target = target\n",
        "        # Save the information in the data table\n",
        "        data.append([temporary_target, str(sequence_record.seq).upper(), temporary_target])"
      ],
      "execution_count": 188,
      "outputs": []
    },
    {
      "cell_type": "code",
      "metadata": {
        "id": "S2RbYvUadfYH"
      },
      "source": [
        "# Updating the dictionary by first clearing it up\n",
        "targets.clear()\n",
        "# Iterate through the entire fasta file\n",
        "for d in data:\n",
        "    # Get the target\n",
        "    target = d[2]\n",
        "    # If the target exists, increment its value by 1 \n",
        "    if target in targets.keys(): targets[target] = targets[target] + 1\n",
        "    # Else we add the target to the dictionary with an initial value of 1 \n",
        "    else: targets[target] = 1"
      ],
      "execution_count": 189,
      "outputs": []
    },
    {
      "cell_type": "code",
      "metadata": {
        "id": "76_v6B4udPns"
      },
      "source": [
        "# Get Data information after selection\n",
        "n_targets = len(targets.keys())\n",
        "n_sequences = sum(targets.values())\n",
        "min_instances = min(targets.values())\n",
        "max_instances = max(targets.values())\n",
        "\n",
        "# Dipslay data information after selection\n",
        "print(\"Data information after cleaning:\")\n",
        "print(\"Number of sequences = \", n_sequences)\n",
        "print(\"Number of targets = \", n_targets)\n",
        "print(\"Minimum number of instances = \", min_instances)\n",
        "print(\"Maximum number of instances = \", max_instances)\n",
        "print(\"\\nData summary:\")\n",
        "for key, value in targets.items(): print(\"Target = \", key, \"| Number of sequences = \", value)"
      ],
      "execution_count": null,
      "outputs": []
    },
    {
      "cell_type": "code",
      "metadata": {
        "id": "dLlrA8M2eh1G"
      },
      "source": [
        "##################################################\n",
        "##### GENERATION OF FEATURES BASED ON K-MERS #####\n",
        "##################################################\n"
      ],
      "execution_count": null,
      "outputs": []
    },
    {
      "cell_type": "code",
      "metadata": {
        "id": "DskY0ElH0Tuz"
      },
      "source": [
        "# Import re for regular expression operations\n",
        "import re\n",
        "# Fixe the length k of the features based on k-mers\n",
        "k = 5 #3,4,5,6\n",
        "# Initialize an empty dictionary for the k-mers\n",
        "k_mers = {}"
      ],
      "execution_count": 219,
      "outputs": []
    },
    {
      "cell_type": "code",
      "metadata": {
        "id": "NH0D9Uqj0f9M"
      },
      "source": [
        "# Iterate through the training data\n",
        "for d in data:\n",
        "    # Get the sequence\n",
        "    sequence = d[1]\n",
        "    # Go through the sequence \n",
        "    for i in range(0, len(sequence) - k + 1, 1):\n",
        "        # Get the current k-mer\n",
        "        k_mer = sequence[i:i + k]\n",
        "        # If it contains only the characters \"A\", \"C\", \"G\" or \"T\", it will be saved.\n",
        "        if bool(re.match('^[ACGT]+$', k_mer)) == True: k_mers[k_mer] = 0"
      ],
      "execution_count": 220,
      "outputs": []
    },
    {
      "cell_type": "code",
      "metadata": {
        "id": "JLgotW6X1CPI"
      },
      "source": [
        "def generateMatrices(data, k_mers, k):\n",
        "    # Initialize the feature matrix\n",
        "    X = []\n",
        "    # Initialize the target vector\n",
        "    y = []\n",
        "    # Iterate through the data\n",
        "    for d in data:\n",
        "        # Generate an empty dictionary\n",
        "        x = {}\n",
        "        # Initialize the dictionary with targets as keys and 0 as value\n",
        "        x = x.fromkeys(k_mers.keys(), 0)\n",
        "        # Get the sequence\n",
        "        sequence = d[1]\n",
        "        # Get the target\n",
        "        target = d[2]\n",
        "        # Compute X (features matrix) the number of occurrence of k-mers (with overlaping)\n",
        "        for i in range(0, len(sequence) - k + 1, 1):\n",
        "            k_mer = sequence[i:i + k]\n",
        "            # Attempt to increment the number of occurrences of the current k-mers\n",
        "            try: x[k_mer] = x[k_mer] + 1\n",
        "            except: pass\n",
        "        # Save the vector in the main matrix\n",
        "        X.append(list(x.values()))\n",
        "        # Compute y (target vector)\n",
        "        y.append(target)\n",
        "    # Return matrices X and y (feature matrix and target vector)\n",
        "    return X, y"
      ],
      "execution_count": 221,
      "outputs": []
    },
    {
      "cell_type": "code",
      "metadata": {
        "id": "W-1-Sqcj1C8V"
      },
      "source": [
        "seq_X, seq_y = generateMatrices(data = data, k_mers = k_mers, k = k)"
      ],
      "execution_count": 222,
      "outputs": []
    },
    {
      "cell_type": "code",
      "metadata": {
        "id": "RqDyQaIyaZ2k"
      },
      "source": [
        "# Import MinMaxScaler from sklearn\n",
        "from sklearn.preprocessing import MinMaxScaler\n",
        "# Instantiate a MinMaxScaler between 0 and 1\n",
        "minMaxScaler = MinMaxScaler(feature_range = (0,1))\n",
        "# Apply a scaling to the train and test set\n",
        "seq_X = minMaxScaler.fit_transform(seq_X)"
      ],
      "execution_count": 223,
      "outputs": []
    },
    {
      "cell_type": "code",
      "metadata": {
        "colab": {
          "base_uri": "https://localhost:8080/"
        },
        "id": "uO03MWJl6nmn",
        "outputId": "fec6b235-32a5-48b9-e166-80c17553c035"
      },
      "source": [
        "\n",
        "from sklearn.model_selection import train_test_split\n",
        "from sklearn.model_selection import StratifiedShuffleSplit\n",
        "import numpy as np\n",
        "rs = 42\n",
        "test_size = 0.3\n",
        "\n",
        "X_train, X_test, y_train, y_test = train_test_split(seq_X, seq_y, \n",
        "                                                     test_size=test_size, \n",
        "                                                     shuffle=True, \n",
        "                                                     random_state=rs)\n",
        "print(X_train.shape)"
      ],
      "execution_count": 224,
      "outputs": [
        {
          "output_type": "stream",
          "text": [
            "(8922, 1024)\n"
          ],
          "name": "stdout"
        }
      ]
    },
    {
      "cell_type": "code",
      "metadata": {
        "id": "PM5TSwhv_Uk9"
      },
      "source": [
        "# Import SVM from sklearn\n",
        "from sklearn import svm\n",
        "# Instantiate a linear model based on svm\n",
        "model = svm.SVC(C = 1.0, kernel='linear', class_weight = None)"
      ],
      "execution_count": 225,
      "outputs": []
    },
    {
      "cell_type": "code",
      "metadata": {
        "id": "TEQhV8iJ_a6a",
        "colab": {
          "base_uri": "https://localhost:8080/"
        },
        "outputId": "398f83e9-43fe-4af0-9255-e2ce09b11b78"
      },
      "source": [
        "# Imports the feature selection method: Recursive features elimination [RFE]\n",
        "import time\n",
        "start = time.clock()\n",
        "print(start)\n",
        "\n",
        "from sklearn.feature_selection import RFE\n",
        "# Define the elimination step\n",
        "step = 2\n",
        "# Define the number of features to be selected\n",
        "n_features = 100 # 32, 60, 100\n",
        "# Instantiate the RFE\n",
        "rfe = RFE(model, n_features_to_select = n_features, step = step)\n",
        "# Apply RFE and transform the training matrix\n",
        "X_train = rfe.fit_transform(X_train, y_train)\n",
        "end = time.clock()\n",
        "print(end)\n",
        "print(end-start)"
      ],
      "execution_count": null,
      "outputs": [
        {
          "output_type": "stream",
          "text": [
            "/usr/local/lib/python3.7/dist-packages/ipykernel_launcher.py:3: DeprecationWarning: time.clock has been deprecated in Python 3.3 and will be removed from Python 3.8: use time.perf_counter or time.process_time instead\n",
            "  This is separate from the ipykernel package so we can avoid doing imports until\n"
          ],
          "name": "stderr"
        },
        {
          "output_type": "stream",
          "text": [
            "19417.39499\n"
          ],
          "name": "stdout"
        }
      ]
    },
    {
      "cell_type": "code",
      "metadata": {
        "id": "0c85TKlOBRoq"
      },
      "source": [
        "# Fit the model on the train set\n",
        "model.fit(X_train, y_train)"
      ],
      "execution_count": null,
      "outputs": []
    },
    {
      "cell_type": "code",
      "metadata": {
        "id": "dUOpGYveBWAJ"
      },
      "source": [
        "# Import Joblib for the persistence of the model\n",
        "import joblib"
      ],
      "execution_count": 200,
      "outputs": []
    },
    {
      "cell_type": "code",
      "metadata": {
        "colab": {
          "base_uri": "https://localhost:8080/"
        },
        "id": "iidRE9kOBY-L",
        "outputId": "3c58a151-0cbd-4b6a-bec2-703b5ef55a35"
      },
      "source": [
        "# Save the model\n",
        "joblib.dump(model, \"model.pkl\")"
      ],
      "execution_count": 201,
      "outputs": [
        {
          "output_type": "execute_result",
          "data": {
            "text/plain": [
              "['model.pkl']"
            ]
          },
          "metadata": {
            "tags": []
          },
          "execution_count": 201
        }
      ]
    },
    {
      "cell_type": "code",
      "metadata": {
        "id": "xaXFtDg5Bnfx"
      },
      "source": [
        "# Transform the test matrix according to the RFE selection\n",
        "X_test = rfe.transform(X_test)"
      ],
      "execution_count": 202,
      "outputs": []
    },
    {
      "cell_type": "code",
      "metadata": {
        "id": "B7gs11TPBuwp"
      },
      "source": [
        "# Load model\n",
        "model = joblib.load(\"model.pkl\")"
      ],
      "execution_count": 203,
      "outputs": []
    },
    {
      "cell_type": "code",
      "metadata": {
        "id": "VsKEykGOByHl"
      },
      "source": [
        "# Predict the test set\n",
        "y_pred = model.predict(X_test)"
      ],
      "execution_count": 204,
      "outputs": []
    },
    {
      "cell_type": "code",
      "metadata": {
        "id": "4l_gKdgdB4t-"
      },
      "source": [
        "# Import classification report from sklearn\n",
        "from sklearn.metrics import classification_report\n",
        "# Print the classification_report\n",
        "print(classification_report(y_test, y_pred, digits = 3))\n",
        "# Save the keys of the classification report dictionary \n",
        "classification_report_dict_keys = list(classification_report(y_test, y_pred, output_dict= True).keys())[:-3]"
      ],
      "execution_count": null,
      "outputs": []
    },
    {
      "cell_type": "code",
      "metadata": {
        "id": "0ETsyw9cCKxs"
      },
      "source": [
        "# Import seaborn library\n",
        "import seaborn as sns\n",
        "# Import matplotlib functions\n",
        "import matplotlib.pyplot as plt\n",
        "# Import confusion matrix from sklearn.metrics\n",
        "from sklearn.metrics import confusion_matrix\n",
        "# Compute the confusion matrix\n",
        "confusionMatrix = confusion_matrix(y_true = y_test, y_pred = y_pred)\n",
        "# Built the figure\n",
        "fig, ax = plt.subplots(figsize=(15, 10))\n",
        "sns.heatmap(confusionMatrix, \n",
        "            cmap = 'magma', \n",
        "            annot = True, \n",
        "            fmt = \".0f\", \n",
        "            linewidth = 0.1, \n",
        "            xticklabels = classification_report_dict_keys, \n",
        "            yticklabels = classification_report_dict_keys)\n",
        "plt.title(\"Confusion matrix\")\n",
        "plt.xlabel(\"Predicted label\")\n",
        "plt.ylabel(\"True label\")\n",
        "plt.show()"
      ],
      "execution_count": null,
      "outputs": []
    },
    {
      "cell_type": "code",
      "metadata": {
        "id": "6ByN0L_6zPim"
      },
      "source": [
        "from keras.layers import Input, Dense\n",
        "from keras.models import Model\n",
        "from keras import backend as K\n",
        "import numpy as np\n",
        "import matplotlib.pyplot as plt\n",
        "import pickle"
      ],
      "execution_count": 206,
      "outputs": []
    },
    {
      "cell_type": "code",
      "metadata": {
        "id": "csUaHwMN3pQ6"
      },
      "source": [
        "# K= 3, with 64 total features\n",
        "# select 32 features\n",
        "encoding_dim = 32 # 32, 60, 100   \n",
        "# this is our input placeholder\n",
        "input_data = Input(shape=(64, ))\n",
        "# Number of epochs\n",
        "my_epochs = 200\n",
        "\n",
        "# \"encoded\" is the encoded representation of the inputs\n",
        "encoded = Dense(44, activation='relu')(input_data)\n",
        "encoded = Dense(encoding_dim , activation='relu')(encoded)\n",
        "\n",
        "# \"decoded\" is the lossy reconstruction of the input\n",
        "decoded = Dense(44, activation='relu')(encoded)\n",
        "decoded = Dense(64, activation='sigmoid')(decoded)\n",
        "\n",
        "# this model maps an input to its reconstruction\n",
        "autoencoder = Model(input_data, decoded)\n",
        "\n",
        "# this model maps an input to its encoded representation\n",
        "encoder = Model(input_data, encoded)\n",
        "\n",
        "# create a placeholder for an encoded (32-dimensional) input\n",
        "encoded_input = Input(shape=(encoding_dim, ))\n",
        "\n",
        "# retrieve the layers of the autoencoder model\n",
        "decoder_layer3 = autoencoder.layers[-2]\n",
        "decoder_layer4 = autoencoder.layers[-1]\n",
        "\n",
        "# create the decoder model\n",
        "decoder = Model(encoded_input, decoder_layer4(decoder_layer3(encoded_input)))\n",
        "\n",
        "# configure model to use regretion loss functions, and the adam optimizer\n",
        "autoencoder.compile(optimizer='adam', loss='mse')\n",
        "#mean_squared_logarithmic_error, #mean_absolute_error, #autoencoder.compile(loss='mean_squared_logarithmic_error', optimizer='adam', metrics=['mse'])"
      ],
      "execution_count": 257,
      "outputs": []
    },
    {
      "cell_type": "code",
      "metadata": {
        "id": "L3rhlGgF4ilp"
      },
      "source": [
        "# K= 4, with 256 total features\n",
        "# select 60 features\n",
        "encoding_dim = 60 # 32, 60, 100   \n",
        "# this is our input placeholder\n",
        "input_data = Input(shape=(256, ))\n",
        "# Number of epochs\n",
        "my_epochs = 300\n",
        "\n",
        "# \"encoded\" is the encoded representation of the inputs\n",
        "encoded = Dense(encoding_dim * 3, activation='relu')(input_data)\n",
        "encoded = Dense(encoding_dim * 2, activation='relu')(encoded)\n",
        "encoded = Dense(encoding_dim , activation='relu')(encoded)\n",
        "\n",
        "# \"decoded\" is the lossy reconstruction of the input\n",
        "decoded = Dense(encoding_dim * 2, activation='relu')(encoded)\n",
        "decoded = Dense(encoding_dim * 3, activation='relu')(decoded)\n",
        "decoded = Dense(256, activation='sigmoid')(decoded)\n",
        "\n",
        "# this model maps an input to its reconstruction\n",
        "autoencoder = Model(input_data, decoded)\n",
        "\n",
        "# this model maps an input to its encoded representation\n",
        "encoder = Model(input_data, encoded)\n",
        "\n",
        "# create a placeholder for an encoded (60-dimensional) input\n",
        "encoded_input = Input(shape=(encoding_dim, ))\n",
        "\n",
        "# retrieve the layers of the autoencoder model\n",
        "decoder_layer2 = autoencoder.layers[-3]\n",
        "decoder_layer3 = autoencoder.layers[-2]\n",
        "decoder_layer4 = autoencoder.layers[-1]\n",
        "\n",
        "# create the decoder model\n",
        "decoder = Model(encoded_input, decoder_layer4(decoder_layer3(decoder_layer2(encoded_input))))\n",
        "\n",
        "# configure model to use regretion loss functions, and the adam optimizer\n",
        "autoencoder.compile(optimizer='adam', loss='mse')\n",
        "#autoencoder.compile(loss='mean_squared_logarithmic_error', optimizer='adam', metrics=['mse'])\n",
        "#mean_squared_logarithmic_error, #mean_absolute_error,"
      ],
      "execution_count": 207,
      "outputs": []
    },
    {
      "cell_type": "code",
      "metadata": {
        "id": "Zb9z9NXb4kzR"
      },
      "source": [
        "# K= 5, with 1024 total features\n",
        "# select 100 features\n",
        "encoding_dim = 100 # 32, 60, 100   \n",
        "# this is our input placeholder\n",
        "input_data = Input(shape=(1024, ))\n",
        "# Number of epochs\n",
        "my_epochs = 300\n",
        "\n",
        "# \"encoded\" is the encoded representation of the inputs\n",
        "encoded = Dense(encoding_dim *6, activation='relu')(input_data)\n",
        "encoded = Dense(encoding_dim *4 , activation='relu')(encoded)\n",
        "encoded = Dense(encoding_dim *2, activation='relu')(encoded)\n",
        "encoded = Dense(encoding_dim , activation='relu')(encoded)\n",
        "\n",
        "# \"decoded\" is the lossy reconstruction of the input\n",
        "decoded = Dense(encoding_dim *2, activation='relu')(encoded)\n",
        "decoded = Dense(encoding_dim*4, activation='sigmoid')(decoded)\n",
        "decoded = Dense(encoding_dim*6, activation='sigmoid')(decoded)\n",
        "decoded = Dense(1024, activation='sigmoid')(decoded)\n",
        "\n",
        "# this model maps an input to its reconstruction\n",
        "autoencoder = Model(input_data, decoded)\n",
        "\n",
        "# this model maps an input to its encoded representation\n",
        "encoder = Model(input_data, encoded)\n",
        "\n",
        "# create a placeholder for an encoded (100-dimensional) input\n",
        "encoded_input = Input(shape=(encoding_dim, ))\n",
        "\n",
        "# retrieve the layers of the autoencoder model\n",
        "decoder_layer1 = autoencoder.layers[-4]\n",
        "decoder_layer2 = autoencoder.layers[-3]\n",
        "decoder_layer3 = autoencoder.layers[-2]\n",
        "decoder_layer4 = autoencoder.layers[-1]\n",
        "\n",
        "# create the decoder model\n",
        "decoder = Model(encoded_input, decoder_layer4(decoder_layer3(decoder_layer2(decoder_layer1(encoded_input)))))\n",
        "\n",
        "# configure model to use regretion loss functions, and the adam optimizer\n",
        "autoencoder.compile(optimizer='adam', loss='mse')\n",
        "#autoencoder.compile(loss='mean_squared_logarithmic_error', optimizer='adam', metrics=['mse'])\n",
        "#mean_squared_logarithmic_error, #mean_absolute_error,"
      ],
      "execution_count": 363,
      "outputs": []
    },
    {
      "cell_type": "code",
      "metadata": {
        "id": "S6jpNlVskttN"
      },
      "source": [
        "# K= 6, with 4096 total features\n",
        "# select 200 features\n",
        "encoding_dim = 200 # 32, 60, 100 , 200  \n",
        "# this is our input placeholder\n",
        "input_data = Input(shape=(4096, ))\n",
        "# Number of epochs\n",
        "my_epochs = 300\n",
        "\n",
        "# \"encoded\" is the encoded representation of the inputs\n",
        "encoded = Dense(encoding_dim *10, activation='relu')(input_data)\n",
        "encoded = Dense(encoding_dim *5 , activation='relu')(encoded)\n",
        "encoded = Dense(encoding_dim *2, activation='relu')(encoded)\n",
        "encoded = Dense(encoding_dim , activation='relu')(encoded)\n",
        "\n",
        "# \"decoded\" is the lossy reconstruction of the input\n",
        "decoded = Dense(encoding_dim *2, activation='relu')(encoded)\n",
        "decoded = Dense(encoding_dim*5, activation='sigmoid')(decoded)\n",
        "decoded = Dense(encoding_dim*10, activation='sigmoid')(decoded)\n",
        "decoded = Dense(4096, activation='sigmoid')(decoded)\n",
        "\n",
        "# this model maps an input to its reconstruction\n",
        "autoencoder = Model(input_data, decoded)\n",
        "\n",
        "# this model maps an input to its encoded representation\n",
        "encoder = Model(input_data, encoded)\n",
        "\n",
        "# create a placeholder for an encoded (200-dimensional) input\n",
        "encoded_input = Input(shape=(encoding_dim, ))\n",
        "\n",
        "# retrieve the layers of the autoencoder model\n",
        "decoder_layer1 = autoencoder.layers[-4]\n",
        "decoder_layer2 = autoencoder.layers[-3]\n",
        "decoder_layer3 = autoencoder.layers[-2]\n",
        "decoder_layer4 = autoencoder.layers[-1]\n",
        "\n",
        "# create the decoder model\n",
        "decoder = Model(encoded_input, decoder_layer4(decoder_layer3(decoder_layer2(decoder_layer1(encoded_input)))))\n",
        "\n",
        "# configure model to use regretion loss functions, and the adam optimizer\n",
        "autoencoder.compile(optimizer='adam', loss='mse')\n",
        "#autoencoder.compile(loss='mean_squared_logarithmic_error', optimizer='adam', metrics=['mse'])\n",
        "#mean_squared_logarithmic_error, #mean_absolute_error,"
      ],
      "execution_count": 14,
      "outputs": []
    },
    {
      "cell_type": "code",
      "metadata": {
        "id": "e75m9bcg3w1f"
      },
      "source": [
        "\n",
        "# Train autoencoder\n",
        "autoencoder.fit(seq_X, seq_X, epochs=my_epochs, batch_size=256, shuffle=True, validation_data=None,verbose=2)\n",
        "\n",
        "K.clear_session()"
      ],
      "execution_count": null,
      "outputs": []
    },
    {
      "cell_type": "code",
      "metadata": {
        "id": "calUsCkiDS-9"
      },
      "source": [
        "# get the encoded representation\n",
        "encoded_imgs = encoder.predict(seq_X)\n",
        "Data_train = encoded_imgs[:]"
      ],
      "execution_count": 209,
      "outputs": []
    },
    {
      "cell_type": "code",
      "metadata": {
        "id": "xvgEhrFbJrxv"
      },
      "source": [
        "Data_train.shape"
      ],
      "execution_count": null,
      "outputs": []
    },
    {
      "cell_type": "code",
      "metadata": {
        "id": "NSMtebu_SQhZ"
      },
      "source": [
        "from sklearn.model_selection import train_test_split\n",
        "from sklearn.model_selection import StratifiedShuffleSplit\n",
        "import numpy as np\n",
        "rs = 42\n",
        "test_size = 0.3\n",
        "\n",
        "X_train, X_test, y_train, y_test = train_test_split(Data_train, seq_y, \n",
        "                                                     test_size=test_size, \n",
        "                                                     shuffle=True, \n",
        "                                                     random_state=rs)"
      ],
      "execution_count": 211,
      "outputs": []
    },
    {
      "cell_type": "code",
      "metadata": {
        "id": "F6QAvZJGCBob"
      },
      "source": [
        "# Import SVM from sklearn\n",
        "from sklearn import svm\n",
        "# Instantiate a linear model based on svm\n",
        "model2 = svm.SVC(C = 1.0, kernel='linear', class_weight = None)"
      ],
      "execution_count": 212,
      "outputs": []
    },
    {
      "cell_type": "code",
      "metadata": {
        "id": "uvPezGwVCFSd"
      },
      "source": [
        "model2.fit(X_train, y_train)"
      ],
      "execution_count": null,
      "outputs": []
    },
    {
      "cell_type": "code",
      "metadata": {
        "id": "bHNlySD1KRuW"
      },
      "source": [
        "# Import Joblib for the persistence of the model\n",
        "import joblib"
      ],
      "execution_count": 214,
      "outputs": []
    },
    {
      "cell_type": "code",
      "metadata": {
        "id": "w8oYka5LKXYj"
      },
      "source": [
        "# Save the model\n",
        "joblib.dump(model2, \"model2.pkl\")"
      ],
      "execution_count": null,
      "outputs": []
    },
    {
      "cell_type": "code",
      "metadata": {
        "id": "0eI4sR6gKzKs"
      },
      "source": [
        "# Load model\n",
        "model2 = joblib.load(\"model2.pkl\")"
      ],
      "execution_count": 216,
      "outputs": []
    },
    {
      "cell_type": "code",
      "metadata": {
        "id": "geX1ICQ3K3Yt"
      },
      "source": [
        "# Predict the test set\n",
        "y_pred = model2.predict(X_test)"
      ],
      "execution_count": 217,
      "outputs": []
    },
    {
      "cell_type": "code",
      "metadata": {
        "id": "LkBP898hLbzO"
      },
      "source": [
        "# Import classification report from sklearn\n",
        "from sklearn.metrics import classification_report\n",
        "# Print the classification_report\n",
        "print(classification_report(y_test, y_pred, digits = 3))\n",
        "# Save the keys of the classification report dictionary \n",
        "classification_report_dict_keys = list(classification_report(y_test, y_pred, output_dict= True).keys())[:-3]"
      ],
      "execution_count": null,
      "outputs": []
    }
  ]
}